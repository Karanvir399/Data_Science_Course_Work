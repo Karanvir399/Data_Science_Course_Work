{
 "cells": [
  {
   "cell_type": "code",
   "execution_count": 1,
   "id": "39b602ba-4027-4916-8ed2-f303e6d3d86b",
   "metadata": {},
   "outputs": [
    {
     "name": "stdout",
     "output_type": "stream",
     "text": [
      "Requirement already satisfied: pandas in f:\\miniconda\\envs\\py312\\lib\\site-packages (2.2.3)\n",
      "Requirement already satisfied: numpy>=1.26.0 in f:\\miniconda\\envs\\py312\\lib\\site-packages (from pandas) (2.2.2)\n",
      "Requirement already satisfied: python-dateutil>=2.8.2 in f:\\miniconda\\envs\\py312\\lib\\site-packages (from pandas) (2.9.0.post0)\n",
      "Requirement already satisfied: pytz>=2020.1 in f:\\miniconda\\envs\\py312\\lib\\site-packages (from pandas) (2025.1)\n",
      "Requirement already satisfied: tzdata>=2022.7 in f:\\miniconda\\envs\\py312\\lib\\site-packages (from pandas) (2025.1)\n",
      "Requirement already satisfied: six>=1.5 in f:\\miniconda\\envs\\py312\\lib\\site-packages (from python-dateutil>=2.8.2->pandas) (1.17.0)\n"
     ]
    }
   ],
   "source": [
    "!pip install pandas"
   ]
  },
  {
   "cell_type": "code",
   "execution_count": 2,
   "id": "94e660f0-8e0a-4864-a948-03f452bf1b22",
   "metadata": {},
   "outputs": [
    {
     "name": "stdout",
     "output_type": "stream",
     "text": [
      "Requirement already satisfied: requests in f:\\miniconda\\envs\\py312\\lib\\site-packages (2.32.3)\n",
      "Requirement already satisfied: charset-normalizer<4,>=2 in f:\\miniconda\\envs\\py312\\lib\\site-packages (from requests) (3.4.1)\n",
      "Requirement already satisfied: idna<4,>=2.5 in f:\\miniconda\\envs\\py312\\lib\\site-packages (from requests) (3.10)\n",
      "Requirement already satisfied: urllib3<3,>=1.21.1 in f:\\miniconda\\envs\\py312\\lib\\site-packages (from requests) (2.3.0)\n",
      "Requirement already satisfied: certifi>=2017.4.17 in f:\\miniconda\\envs\\py312\\lib\\site-packages (from requests) (2024.12.14)\n"
     ]
    }
   ],
   "source": [
    "!pip install requests"
   ]
  },
  {
   "cell_type": "code",
   "execution_count": 3,
   "id": "482424f1-90bc-44e7-8b84-cb257dcef837",
   "metadata": {},
   "outputs": [
    {
     "name": "stdout",
     "output_type": "stream",
     "text": [
      "Requirement already satisfied: bs4 in f:\\miniconda\\envs\\py312\\lib\\site-packages (0.0.2)\n",
      "Requirement already satisfied: beautifulsoup4 in f:\\miniconda\\envs\\py312\\lib\\site-packages (from bs4) (4.12.3)\n",
      "Requirement already satisfied: soupsieve>1.2 in f:\\miniconda\\envs\\py312\\lib\\site-packages (from beautifulsoup4->bs4) (2.6)\n"
     ]
    }
   ],
   "source": [
    "!pip install bs4"
   ]
  },
  {
   "cell_type": "code",
   "execution_count": 4,
   "id": "97d891e5-6333-4a5c-9095-7f2ce587fd6c",
   "metadata": {},
   "outputs": [
    {
     "name": "stdout",
     "output_type": "stream",
     "text": [
      "Requirement already satisfied: html5lib in f:\\miniconda\\envs\\py312\\lib\\site-packages (1.1)\n",
      "Requirement already satisfied: six>=1.9 in f:\\miniconda\\envs\\py312\\lib\\site-packages (from html5lib) (1.17.0)\n",
      "Requirement already satisfied: webencodings in f:\\miniconda\\envs\\py312\\lib\\site-packages (from html5lib) (0.5.1)\n"
     ]
    }
   ],
   "source": [
    "!pip install html5lib"
   ]
  },
  {
   "cell_type": "code",
   "execution_count": 5,
   "id": "80011a70-2d17-481b-aafe-4664849b93ae",
   "metadata": {},
   "outputs": [
    {
     "name": "stdout",
     "output_type": "stream",
     "text": [
      "Requirement already satisfied: lxml in f:\\miniconda\\envs\\py312\\lib\\site-packages (5.3.0)\n"
     ]
    }
   ],
   "source": [
    "!pip install lxml"
   ]
  },
  {
   "cell_type": "code",
   "execution_count": 6,
   "id": "822a1bb4-a857-4555-a407-a0f61ebd7241",
   "metadata": {},
   "outputs": [
    {
     "name": "stdout",
     "output_type": "stream",
     "text": [
      "Collecting plotly\n",
      "  Downloading plotly-6.0.0-py3-none-any.whl.metadata (5.6 kB)\n",
      "Collecting narwhals>=1.15.1 (from plotly)\n",
      "  Downloading narwhals-1.24.1-py3-none-any.whl.metadata (10.0 kB)\n",
      "Requirement already satisfied: packaging in f:\\miniconda\\envs\\py312\\lib\\site-packages (from plotly) (24.2)\n",
      "Downloading plotly-6.0.0-py3-none-any.whl (14.8 MB)\n",
      "   ---------------------------------------- 0.0/14.8 MB ? eta -:--:--\n",
      "   ---------------------------------------- 0.0/14.8 MB ? eta -:--:--\n",
      "   -- ------------------------------------- 0.8/14.8 MB 3.7 MB/s eta 0:00:04\n",
      "   ---- ----------------------------------- 1.8/14.8 MB 4.4 MB/s eta 0:00:03\n",
      "   -------- ------------------------------- 3.1/14.8 MB 4.6 MB/s eta 0:00:03\n",
      "   ----------- ---------------------------- 4.2/14.8 MB 4.8 MB/s eta 0:00:03\n",
      "   -------------- ------------------------- 5.5/14.8 MB 5.0 MB/s eta 0:00:02\n",
      "   ------------------- -------------------- 7.1/14.8 MB 5.2 MB/s eta 0:00:02\n",
      "   ---------------------- ----------------- 8.4/14.8 MB 5.3 MB/s eta 0:00:02\n",
      "   -------------------------- ------------- 9.7/14.8 MB 5.3 MB/s eta 0:00:01\n",
      "   ----------------------------- ---------- 11.0/14.8 MB 5.3 MB/s eta 0:00:01\n",
      "   -------------------------------- ------- 12.1/14.8 MB 5.3 MB/s eta 0:00:01\n",
      "   ----------------------------------- ---- 13.1/14.8 MB 5.3 MB/s eta 0:00:01\n",
      "   -------------------------------------- - 14.4/14.8 MB 5.3 MB/s eta 0:00:01\n",
      "   ---------------------------------------  14.7/14.8 MB 5.3 MB/s eta 0:00:01\n",
      "   ---------------------------------------  14.7/14.8 MB 5.3 MB/s eta 0:00:01\n",
      "   ---------------------------------------  14.7/14.8 MB 5.3 MB/s eta 0:00:01\n",
      "   ---------------------------------------  14.7/14.8 MB 5.3 MB/s eta 0:00:01\n",
      "   ---------------------------------------  14.7/14.8 MB 5.3 MB/s eta 0:00:01\n",
      "   ---------------------------------------  14.7/14.8 MB 5.3 MB/s eta 0:00:01\n",
      "   ---------------------------------------- 14.8/14.8 MB 3.5 MB/s eta 0:00:00\n",
      "Downloading narwhals-1.24.1-py3-none-any.whl (309 kB)\n",
      "Installing collected packages: narwhals, plotly\n",
      "Successfully installed narwhals-1.24.1 plotly-6.0.0\n"
     ]
    }
   ],
   "source": [
    "!pip install plotly"
   ]
  },
  {
   "cell_type": "code",
   "execution_count": 4,
   "id": "49dd95ce-0063-4a75-b9a6-f6b38c59b379",
   "metadata": {},
   "outputs": [],
   "source": [
    "import pandas as pd"
   ]
  },
  {
   "cell_type": "code",
   "execution_count": 5,
   "id": "784c58da-c4ff-413c-8a2d-1476b1821d7c",
   "metadata": {},
   "outputs": [],
   "source": [
    "import requests"
   ]
  },
  {
   "cell_type": "code",
   "execution_count": 6,
   "id": "f86f7664-8650-421e-ba02-f1fc7bfc1c5c",
   "metadata": {},
   "outputs": [],
   "source": [
    "from bs4 import BeautifulSoup"
   ]
  },
  {
   "cell_type": "code",
   "execution_count": 7,
   "id": "6ed40cef-c97b-4a43-9e8b-6f407f215a89",
   "metadata": {},
   "outputs": [],
   "source": [
    "import warnings\n",
    "# Ignore all warnings\n",
    "warnings.filterwarnings(\"ignore\", category=FutureWarning)"
   ]
  },
  {
   "cell_type": "code",
   "execution_count": 8,
   "id": "3349c458-d13a-4012-8d1d-7f51cd7177eb",
   "metadata": {},
   "outputs": [],
   "source": [
    "url = \"https://cf-courses-data.s3.us.cloud-object-storage.appdomain.cloud/IBMDeveloperSkillsNetwork-PY0220EN-SkillsNetwork/labs/project/netflix_data_webpage.html\""
   ]
  },
  {
   "cell_type": "code",
   "execution_count": 9,
   "id": "bedb1f08-7e4a-4116-b67b-cb237be6ac47",
   "metadata": {},
   "outputs": [],
   "source": [
    "data=requests.get(url).text"
   ]
  },
  {
   "cell_type": "code",
   "execution_count": 10,
   "id": "762436bc-559a-414e-b46e-e63530e29d77",
   "metadata": {},
   "outputs": [],
   "source": [
    "soup=BeautifulSoup(data,\"html5lib\")"
   ]
  },
  {
   "cell_type": "code",
   "execution_count": 11,
   "id": "cc9bf8fd-6154-410e-a39c-deb5e1b9965e",
   "metadata": {},
   "outputs": [],
   "source": [
    "netflix_data=pd.DataFrame(columns=[\"Date\", \"Open\", \"High\", \"Low\", \"Close\", \"Volume\"])"
   ]
  },
  {
   "cell_type": "code",
   "execution_count": 12,
   "id": "cd200c46-b1eb-455c-b1bc-f5878c65a8d8",
   "metadata": {},
   "outputs": [],
   "source": [
    "for row in soup.find(\"tbody\").find_all(\"tr\"):\n",
    "    col=row.find_all(\"td\")\n",
    "    date=col[0].text\n",
    "    Open=col[1].text\n",
    "    high=col[2].text\n",
    "    low=col[3].text\n",
    "    close=col[4].text\n",
    "    adj_close=col[5].text\n",
    "    volume=col[6].text\n",
    "    netflix_data = pd.concat([netflix_data,pd.DataFrame({\"Date\":[date], \"Open\":[Open], \"High\":[high], \"Low\":[low], \"Close\":[close], \"Adj Close\":[adj_close], \"Volume\":[volume]})], ignore_index=True)    "
   ]
  },
  {
   "cell_type": "code",
   "execution_count": 13,
   "id": "907436c5-9664-45e2-b484-a88c4b27dbf0",
   "metadata": {},
   "outputs": [
    {
     "data": {
      "text/html": [
       "<div>\n",
       "<style scoped>\n",
       "    .dataframe tbody tr th:only-of-type {\n",
       "        vertical-align: middle;\n",
       "    }\n",
       "\n",
       "    .dataframe tbody tr th {\n",
       "        vertical-align: top;\n",
       "    }\n",
       "\n",
       "    .dataframe thead th {\n",
       "        text-align: right;\n",
       "    }\n",
       "</style>\n",
       "<table border=\"1\" class=\"dataframe\">\n",
       "  <thead>\n",
       "    <tr style=\"text-align: right;\">\n",
       "      <th></th>\n",
       "      <th>Date</th>\n",
       "      <th>Open</th>\n",
       "      <th>High</th>\n",
       "      <th>Low</th>\n",
       "      <th>Close</th>\n",
       "      <th>Volume</th>\n",
       "      <th>Adj Close</th>\n",
       "    </tr>\n",
       "  </thead>\n",
       "  <tbody>\n",
       "    <tr>\n",
       "      <th>0</th>\n",
       "      <td>Jun 01, 2021</td>\n",
       "      <td>504.01</td>\n",
       "      <td>536.13</td>\n",
       "      <td>482.14</td>\n",
       "      <td>528.21</td>\n",
       "      <td>78,560,600</td>\n",
       "      <td>528.21</td>\n",
       "    </tr>\n",
       "    <tr>\n",
       "      <th>1</th>\n",
       "      <td>May 01, 2021</td>\n",
       "      <td>512.65</td>\n",
       "      <td>518.95</td>\n",
       "      <td>478.54</td>\n",
       "      <td>502.81</td>\n",
       "      <td>66,927,600</td>\n",
       "      <td>502.81</td>\n",
       "    </tr>\n",
       "    <tr>\n",
       "      <th>2</th>\n",
       "      <td>Apr 01, 2021</td>\n",
       "      <td>529.93</td>\n",
       "      <td>563.56</td>\n",
       "      <td>499.00</td>\n",
       "      <td>513.47</td>\n",
       "      <td>111,573,300</td>\n",
       "      <td>513.47</td>\n",
       "    </tr>\n",
       "    <tr>\n",
       "      <th>3</th>\n",
       "      <td>Mar 01, 2021</td>\n",
       "      <td>545.57</td>\n",
       "      <td>556.99</td>\n",
       "      <td>492.85</td>\n",
       "      <td>521.66</td>\n",
       "      <td>90,183,900</td>\n",
       "      <td>521.66</td>\n",
       "    </tr>\n",
       "    <tr>\n",
       "      <th>4</th>\n",
       "      <td>Feb 01, 2021</td>\n",
       "      <td>536.79</td>\n",
       "      <td>566.65</td>\n",
       "      <td>518.28</td>\n",
       "      <td>538.85</td>\n",
       "      <td>61,902,300</td>\n",
       "      <td>538.85</td>\n",
       "    </tr>\n",
       "  </tbody>\n",
       "</table>\n",
       "</div>"
      ],
      "text/plain": [
       "           Date    Open    High     Low   Close       Volume Adj Close\n",
       "0  Jun 01, 2021  504.01  536.13  482.14  528.21   78,560,600    528.21\n",
       "1  May 01, 2021  512.65  518.95  478.54  502.81   66,927,600    502.81\n",
       "2  Apr 01, 2021  529.93  563.56  499.00  513.47  111,573,300    513.47\n",
       "3  Mar 01, 2021  545.57  556.99  492.85  521.66   90,183,900    521.66\n",
       "4  Feb 01, 2021  536.79  566.65  518.28  538.85   61,902,300    538.85"
      ]
     },
     "execution_count": 13,
     "metadata": {},
     "output_type": "execute_result"
    }
   ],
   "source": [
    "netflix_data.head()"
   ]
  },
  {
   "cell_type": "code",
   "execution_count": 16,
   "id": "f2d41d01-b306-4061-b8ba-5fe5b0b855c6",
   "metadata": {},
   "outputs": [],
   "source": [
    "read_html_pandas_data=pd.read_html(url)"
   ]
  },
  {
   "cell_type": "code",
   "execution_count": 15,
   "id": "ee51d4e1-7bd8-4e9b-a4e5-f18eb6956465",
   "metadata": {},
   "outputs": [
    {
     "data": {
      "text/plain": [
       "[                                                 Date  \\\n",
       " 0                                        Jun 01, 2021   \n",
       " 1                                        May 01, 2021   \n",
       " 2                                        Apr 01, 2021   \n",
       " 3                                        Mar 01, 2021   \n",
       " 4                                        Feb 01, 2021   \n",
       " ..                                                ...   \n",
       " 66                                       Dec 01, 2015   \n",
       " 67                                       Nov 01, 2015   \n",
       " 68                                       Oct 01, 2015   \n",
       " 69                                       Sep 01, 2015   \n",
       " 70  *Close price adjusted for splits.**Adjusted cl...   \n",
       " \n",
       "                                                  Open  \\\n",
       " 0                                              504.01   \n",
       " 1                                              512.65   \n",
       " 2                                              529.93   \n",
       " 3                                              545.57   \n",
       " 4                                              536.79   \n",
       " ..                                                ...   \n",
       " 66                                             124.47   \n",
       " 67                                             109.20   \n",
       " 68                                             102.91   \n",
       " 69                                             109.35   \n",
       " 70  *Close price adjusted for splits.**Adjusted cl...   \n",
       " \n",
       "                                                  High  \\\n",
       " 0                                              536.13   \n",
       " 1                                              518.95   \n",
       " 2                                              563.56   \n",
       " 3                                              556.99   \n",
       " 4                                              566.65   \n",
       " ..                                                ...   \n",
       " 66                                             133.27   \n",
       " 67                                             126.60   \n",
       " 68                                             115.83   \n",
       " 69                                             111.24   \n",
       " 70  *Close price adjusted for splits.**Adjusted cl...   \n",
       " \n",
       "                                                   Low  \\\n",
       " 0                                              482.14   \n",
       " 1                                              478.54   \n",
       " 2                                              499.00   \n",
       " 3                                              492.85   \n",
       " 4                                              518.28   \n",
       " ..                                                ...   \n",
       " 66                                             113.85   \n",
       " 67                                             101.86   \n",
       " 68                                              96.26   \n",
       " 69                                              93.55   \n",
       " 70  *Close price adjusted for splits.**Adjusted cl...   \n",
       " \n",
       "                                                Close*  \\\n",
       " 0                                              528.21   \n",
       " 1                                              502.81   \n",
       " 2                                              513.47   \n",
       " 3                                              521.66   \n",
       " 4                                              538.85   \n",
       " ..                                                ...   \n",
       " 66                                             114.38   \n",
       " 67                                             123.33   \n",
       " 68                                             108.38   \n",
       " 69                                             103.26   \n",
       " 70  *Close price adjusted for splits.**Adjusted cl...   \n",
       " \n",
       "                                           Adj Close**  \\\n",
       " 0                                              528.21   \n",
       " 1                                              502.81   \n",
       " 2                                              513.47   \n",
       " 3                                              521.66   \n",
       " 4                                              538.85   \n",
       " ..                                                ...   \n",
       " 66                                             114.38   \n",
       " 67                                             123.33   \n",
       " 68                                             108.38   \n",
       " 69                                             103.26   \n",
       " 70  *Close price adjusted for splits.**Adjusted cl...   \n",
       " \n",
       "                                                Volume  \n",
       " 0                                            78560600  \n",
       " 1                                            66927600  \n",
       " 2                                           111573300  \n",
       " 3                                            90183900  \n",
       " 4                                            61902300  \n",
       " ..                                                ...  \n",
       " 66                                          319939200  \n",
       " 67                                          320321800  \n",
       " 68                                          446204400  \n",
       " 69                                          497401200  \n",
       " 70  *Close price adjusted for splits.**Adjusted cl...  \n",
       " \n",
       " [71 rows x 7 columns]]"
      ]
     },
     "execution_count": 15,
     "metadata": {},
     "output_type": "execute_result"
    }
   ],
   "source": [
    "read_html_pandas_data=pd.read_html(str(soup))\n",
    "read_html_pandas_data"
   ]
  },
  {
   "cell_type": "code",
   "execution_count": 44,
   "id": "3e29b734-2e0d-469c-a1a6-3551a74eafce",
   "metadata": {},
   "outputs": [
    {
     "data": {
      "text/html": [
       "<div>\n",
       "<style scoped>\n",
       "    .dataframe tbody tr th:only-of-type {\n",
       "        vertical-align: middle;\n",
       "    }\n",
       "\n",
       "    .dataframe tbody tr th {\n",
       "        vertical-align: top;\n",
       "    }\n",
       "\n",
       "    .dataframe thead th {\n",
       "        text-align: right;\n",
       "    }\n",
       "</style>\n",
       "<table border=\"1\" class=\"dataframe\">\n",
       "  <thead>\n",
       "    <tr style=\"text-align: right;\">\n",
       "      <th></th>\n",
       "      <th>Date</th>\n",
       "      <th>Open</th>\n",
       "      <th>High</th>\n",
       "      <th>Low</th>\n",
       "      <th>Close*</th>\n",
       "      <th>Adj Close**</th>\n",
       "      <th>Volume</th>\n",
       "    </tr>\n",
       "  </thead>\n",
       "  <tbody>\n",
       "    <tr>\n",
       "      <th>0</th>\n",
       "      <td>Jun 01, 2021</td>\n",
       "      <td>504.01</td>\n",
       "      <td>536.13</td>\n",
       "      <td>482.14</td>\n",
       "      <td>528.21</td>\n",
       "      <td>528.21</td>\n",
       "      <td>78560600</td>\n",
       "    </tr>\n",
       "    <tr>\n",
       "      <th>1</th>\n",
       "      <td>May 01, 2021</td>\n",
       "      <td>512.65</td>\n",
       "      <td>518.95</td>\n",
       "      <td>478.54</td>\n",
       "      <td>502.81</td>\n",
       "      <td>502.81</td>\n",
       "      <td>66927600</td>\n",
       "    </tr>\n",
       "    <tr>\n",
       "      <th>2</th>\n",
       "      <td>Apr 01, 2021</td>\n",
       "      <td>529.93</td>\n",
       "      <td>563.56</td>\n",
       "      <td>499.00</td>\n",
       "      <td>513.47</td>\n",
       "      <td>513.47</td>\n",
       "      <td>111573300</td>\n",
       "    </tr>\n",
       "    <tr>\n",
       "      <th>3</th>\n",
       "      <td>Mar 01, 2021</td>\n",
       "      <td>545.57</td>\n",
       "      <td>556.99</td>\n",
       "      <td>492.85</td>\n",
       "      <td>521.66</td>\n",
       "      <td>521.66</td>\n",
       "      <td>90183900</td>\n",
       "    </tr>\n",
       "    <tr>\n",
       "      <th>4</th>\n",
       "      <td>Feb 01, 2021</td>\n",
       "      <td>536.79</td>\n",
       "      <td>566.65</td>\n",
       "      <td>518.28</td>\n",
       "      <td>538.85</td>\n",
       "      <td>538.85</td>\n",
       "      <td>61902300</td>\n",
       "    </tr>\n",
       "  </tbody>\n",
       "</table>\n",
       "</div>"
      ],
      "text/plain": [
       "           Date    Open    High     Low  Close* Adj Close**     Volume\n",
       "0  Jun 01, 2021  504.01  536.13  482.14  528.21      528.21   78560600\n",
       "1  May 01, 2021  512.65  518.95  478.54  502.81      502.81   66927600\n",
       "2  Apr 01, 2021  529.93  563.56  499.00  513.47      513.47  111573300\n",
       "3  Mar 01, 2021  545.57  556.99  492.85  521.66      521.66   90183900\n",
       "4  Feb 01, 2021  536.79  566.65  518.28  538.85      538.85   61902300"
      ]
     },
     "execution_count": 44,
     "metadata": {},
     "output_type": "execute_result"
    }
   ],
   "source": [
    "netflix_dataframe=read_html_pandas_data[0]\n",
    "netflix_dataframe.head()"
   ]
  },
  {
   "cell_type": "code",
   "execution_count": null,
   "id": "3ff6b657-e455-4689-9a56-8ccf76954111",
   "metadata": {},
   "outputs": [],
   "source": []
  }
 ],
 "metadata": {
  "kernelspec": {
   "display_name": "Python 3 (ipykernel)",
   "language": "python",
   "name": "python3"
  },
  "language_info": {
   "codemirror_mode": {
    "name": "ipython",
    "version": 3
   },
   "file_extension": ".py",
   "mimetype": "text/x-python",
   "name": "python",
   "nbconvert_exporter": "python",
   "pygments_lexer": "ipython3",
   "version": "3.12.8"
  }
 },
 "nbformat": 4,
 "nbformat_minor": 5
}
