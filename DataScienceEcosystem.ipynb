{
 "cells": [
  {
   "cell_type": "markdown",
   "id": "20261a0a-12b8-4719-ada5-c43bf98a2809",
   "metadata": {},
   "source": [
    "# Data Science Tools and Ecosystem"
   ]
  },
  {
   "cell_type": "markdown",
   "id": "fb5e436f-4641-4072-8447-a2bb164c2d49",
   "metadata": {},
   "source": [
    "In this notebook, Data Science Tools and Ecosystem are summarized."
   ]
  },
  {
   "cell_type": "markdown",
   "id": "f51077dc-e38e-44a2-85ab-732daac19a5b",
   "metadata": {},
   "source": [
    "__Objectives:__\n",
    "Some important information\n",
    "* Use markdown cells to include text that should not be read and executed as language specific code.\n",
    "* Use code cells when you want to write and modify code. The default cell is a code cell.\n",
    "* A notebook kernel is a computational engine that executes the code contained in a Notebook file."
   ]
  },
  {
   "cell_type": "markdown",
   "id": "969b5243-2e33-4b59-aa01-1a171fbc559c",
   "metadata": {},
   "source": [
    "Some of the popular languages that Data Scientists use are:\n",
    "1. Python\n",
    "2. R\n",
    "3. SQL"
   ]
  },
  {
   "cell_type": "markdown",
   "id": "e4aae58a-e3c5-4f63-94f5-6d5fcae26979",
   "metadata": {},
   "source": [
    "Some of the commonly used libraries used by Data Scientists include:\n",
    "1. Pandas\n",
    "2. NumPy\n",
    "3. Dplyr\n",
    "4. Matplotlib"
   ]
  },
  {
   "cell_type": "markdown",
   "id": "af849add-eedf-498b-94ad-b437f0b10ea5",
   "metadata": {},
   "source": [
    "| Data Science Tools|\n",
    "|-------------------|\n",
    "| Jupyter Notebook |\n",
    "| RStudio |\n",
    "| VS Code |"
   ]
  },
  {
   "cell_type": "markdown",
   "id": "49c8ab3f-f152-4b0b-a4e4-edea70b08673",
   "metadata": {},
   "source": [
    "### Below are a few examples of evaluating arithmetic expressions in Python"
   ]
  },
  {
   "cell_type": "code",
   "execution_count": 2,
   "id": "4c796ed9-7feb-4f0b-9990-039436271d34",
   "metadata": {},
   "outputs": [
    {
     "data": {
      "text/plain": [
       "17"
      ]
     },
     "execution_count": 2,
     "metadata": {},
     "output_type": "execute_result"
    }
   ],
   "source": [
    "# This a simple arithmetic expression to mutiply then add integers\n",
    "(3*4)+5"
   ]
  },
  {
   "cell_type": "code",
   "execution_count": 3,
   "id": "1515cb31-55fd-458c-819b-8eff81e84f5f",
   "metadata": {},
   "outputs": [
    {
     "data": {
      "text/plain": [
       "3.3333333333333335"
      ]
     },
     "execution_count": 3,
     "metadata": {},
     "output_type": "execute_result"
    }
   ],
   "source": [
    "# This will convert 200 minutes to hours by diving by 60\n",
    "200/60"
   ]
  },
  {
   "cell_type": "markdown",
   "id": "8e3882a9-58c2-4408-9fb6-f9988f5c057c",
   "metadata": {},
   "source": [
    "## Author\n",
    "Karanvir Singh"
   ]
  },
  {
   "cell_type": "code",
   "execution_count": null,
   "id": "871a7d01-9379-472d-ac78-79ed3a5a88ee",
   "metadata": {},
   "outputs": [],
   "source": []
  }
 ],
 "metadata": {
  "kernelspec": {
   "display_name": "Python 3 (ipykernel)",
   "language": "python",
   "name": "python3"
  },
  "language_info": {
   "codemirror_mode": {
    "name": "ipython",
    "version": 3
   },
   "file_extension": ".py",
   "mimetype": "text/x-python",
   "name": "python",
   "nbconvert_exporter": "python",
   "pygments_lexer": "ipython3",
   "version": "3.12.8"
  }
 },
 "nbformat": 4,
 "nbformat_minor": 5
}
