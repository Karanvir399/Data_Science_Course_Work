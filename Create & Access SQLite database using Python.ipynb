{
 "cells": [
  {
   "cell_type": "code",
   "execution_count": 10,
   "id": "0c3a4f26-8e94-4ef2-b425-af719fa5a27e",
   "metadata": {},
   "outputs": [],
   "source": [
    "import sqlite3"
   ]
  },
  {
   "cell_type": "code",
   "execution_count": 11,
   "id": "1b4df1d1-015a-4019-8b09-3c38ee3c2fa6",
   "metadata": {},
   "outputs": [],
   "source": [
    "connection=sqlite3.connect(\"INSTRUCTOR.db\")"
   ]
  },
  {
   "cell_type": "code",
   "execution_count": 12,
   "id": "2d6f191a-8abf-4bca-ac6e-ceec93e9068f",
   "metadata": {},
   "outputs": [],
   "source": [
    "cursor_object=connection.cursor()"
   ]
  },
  {
   "cell_type": "code",
   "execution_count": 13,
   "id": "6dac8195-d1ef-4da2-8fea-069ae9598f51",
   "metadata": {},
   "outputs": [
    {
     "data": {
      "text/plain": [
       "<sqlite3.Cursor at 0x1dd8de5d940>"
      ]
     },
     "execution_count": 13,
     "metadata": {},
     "output_type": "execute_result"
    }
   ],
   "source": [
    "cursor_object.execute(\"DROP TABLE IF EXISTS INSTRUCTOR\")"
   ]
  },
  {
   "cell_type": "code",
   "execution_count": 14,
   "id": "92a8496c-7e1c-4c40-b0de-632cc8c2d906",
   "metadata": {},
   "outputs": [],
   "source": [
    "table=\"\"\"create table IF NOT EXISTS INSTRUCTOR(ID INTEGER PRIMARY KEY NOT NULL, FNAME VARCHAR(20), LNAME VARCHAR(20), CITY VARCHAR(20), CCODE VARCHAR(2));\"\"\""
   ]
  },
  {
   "cell_type": "code",
   "execution_count": 15,
   "id": "61f94883-591b-469e-b18f-00e2b55da7cd",
   "metadata": {},
   "outputs": [
    {
     "data": {
      "text/plain": [
       "<sqlite3.Cursor at 0x1dd8de5d940>"
      ]
     },
     "execution_count": 15,
     "metadata": {},
     "output_type": "execute_result"
    }
   ],
   "source": [
    "cursor_object.execute(table)"
   ]
  },
  {
   "cell_type": "code",
   "execution_count": 16,
   "id": "9125bdfc-91b6-44db-b195-dfd6149b7411",
   "metadata": {},
   "outputs": [
    {
     "data": {
      "text/plain": [
       "<sqlite3.Cursor at 0x1dd8de5d940>"
      ]
     },
     "execution_count": 16,
     "metadata": {},
     "output_type": "execute_result"
    }
   ],
   "source": [
    "cursor_object.execute(\"\"\"INSERT INTO INSTRUCTOR VALUES (1, \"RAV\", \"AHUJA\", \"TORONTO\", \"CA\"), (2, \"RAUL\", \"CHONG\", \"MARKHAM\", \"CA\"), (3, \"HEMA\", \"VASUDEVAN\", \"CHICAGO\", \"US\")\"\"\")"
   ]
  },
  {
   "cell_type": "code",
   "execution_count": 19,
   "id": "ce870fb3-4145-43a1-8175-d6279d69945d",
   "metadata": {},
   "outputs": [
    {
     "data": {
      "text/plain": [
       "<sqlite3.Cursor at 0x1dd8de5d940>"
      ]
     },
     "execution_count": 19,
     "metadata": {},
     "output_type": "execute_result"
    }
   ],
   "source": [
    "cursor_object.execute(\"SELECT * FROM INSTRUCTOR\")"
   ]
  },
  {
   "cell_type": "code",
   "execution_count": 20,
   "id": "57b0532c-01a6-4af1-9d23-e3174f60984b",
   "metadata": {},
   "outputs": [],
   "source": [
    "output=cursor_object.fetchall()"
   ]
  },
  {
   "cell_type": "code",
   "execution_count": 21,
   "id": "5b662177-5d84-4f22-9109-9f2fd70bfbab",
   "metadata": {},
   "outputs": [
    {
     "name": "stdout",
     "output_type": "stream",
     "text": [
      "(1, 'RAV', 'AHUJA', 'TORONTO', 'CA')\n",
      "(2, 'RAUL', 'CHONG', 'MARKHAM', 'CA')\n",
      "(3, 'HEMA', 'VASUDEVAN', 'CHICAGO', 'US')\n"
     ]
    }
   ],
   "source": [
    "for info in output:\n",
    "    print(info)"
   ]
  },
  {
   "cell_type": "code",
   "execution_count": 38,
   "id": "ca494714-6601-4099-8207-815a05ccc138",
   "metadata": {},
   "outputs": [],
   "source": [
    "cursor_object.execute(\"SELECT * FROM INSTRUCTOR\")\n",
    "output_1=cursor_object.fetchmany(2)"
   ]
  },
  {
   "cell_type": "code",
   "execution_count": 39,
   "id": "79ccba03-70ec-47ed-8f9d-40ef2dec3dea",
   "metadata": {},
   "outputs": [
    {
     "name": "stdout",
     "output_type": "stream",
     "text": [
      "(1, 'RAV', 'AHUJA', 'TORONTO', 'CA')\n",
      "(2, 'RAUL', 'CHONG', 'MARKHAM', 'CA')\n"
     ]
    }
   ],
   "source": [
    "for info_1 in output_1:\n",
    "    print(info_1)"
   ]
  },
  {
   "cell_type": "code",
   "execution_count": 40,
   "id": "8773ad76-1f3e-49e9-8b03-d57cad3ecab3",
   "metadata": {},
   "outputs": [
    {
     "data": {
      "text/plain": [
       "<sqlite3.Cursor at 0x1dd8de5d940>"
      ]
     },
     "execution_count": 40,
     "metadata": {},
     "output_type": "execute_result"
    }
   ],
   "source": [
    "cursor_object.execute(\"SELECT FNAME FROM INSTRUCTOR\")"
   ]
  },
  {
   "cell_type": "code",
   "execution_count": 41,
   "id": "4bac207a-76c4-44e9-90fc-da4b228b0d67",
   "metadata": {},
   "outputs": [],
   "source": [
    "output_2=cursor_object.fetchall()"
   ]
  },
  {
   "cell_type": "code",
   "execution_count": 42,
   "id": "ce321232-ace5-448b-8a05-ae5b87c252ea",
   "metadata": {},
   "outputs": [
    {
     "name": "stdout",
     "output_type": "stream",
     "text": [
      "('RAV',)\n",
      "('RAUL',)\n",
      "('HEMA',)\n"
     ]
    }
   ],
   "source": [
    "for info_2 in output_2:\n",
    "    print(info_2)"
   ]
  },
  {
   "cell_type": "code",
   "execution_count": 46,
   "id": "57584f62-1fb4-4d3d-8e8b-c337ce31466f",
   "metadata": {},
   "outputs": [
    {
     "data": {
      "text/plain": [
       "<sqlite3.Cursor at 0x1dd8de5d940>"
      ]
     },
     "execution_count": 46,
     "metadata": {},
     "output_type": "execute_result"
    }
   ],
   "source": [
    "cursor_object.execute(\"\"\"UPDATE INSTRUCTOR SET CITY='MOOSETOWN' WHERE FNAME='RAV'\"\"\")"
   ]
  },
  {
   "cell_type": "code",
   "execution_count": 49,
   "id": "55ba004d-31e2-4b06-a97b-97e42b4e37b5",
   "metadata": {},
   "outputs": [],
   "source": [
    "cursor_object.execute(\"SELECT * FROM INSTRUCTOR\")\n",
    "output_3=cursor_object.fetchall()"
   ]
  },
  {
   "cell_type": "code",
   "execution_count": 50,
   "id": "5ff7dd3e-620d-4d83-9f8f-3619f7ab1dd8",
   "metadata": {},
   "outputs": [
    {
     "name": "stdout",
     "output_type": "stream",
     "text": [
      "(1, 'RAV', 'AHUJA', 'MOOSETOWN', 'CA')\n",
      "(2, 'RAUL', 'CHONG', 'MARKHAM', 'CA')\n",
      "(3, 'HEMA', 'VASUDEVAN', 'CHICAGO', 'US')\n"
     ]
    }
   ],
   "source": [
    "for info_3 in output_3:\n",
    "    print(info_3)"
   ]
  },
  {
   "cell_type": "code",
   "execution_count": 51,
   "id": "81db0942-f892-42bd-86e9-f683655dfe78",
   "metadata": {},
   "outputs": [],
   "source": [
    "import pandas as pd"
   ]
  },
  {
   "cell_type": "code",
   "execution_count": 52,
   "id": "c50be46f-39eb-4dc9-9ab0-d7c65353e528",
   "metadata": {},
   "outputs": [],
   "source": [
    "df=pd.read_sql_query(\"select * from instructor\", connection)"
   ]
  },
  {
   "cell_type": "code",
   "execution_count": 53,
   "id": "8fc2d7bc-463b-44b2-b813-e81435fd3963",
   "metadata": {},
   "outputs": [
    {
     "data": {
      "text/html": [
       "<div>\n",
       "<style scoped>\n",
       "    .dataframe tbody tr th:only-of-type {\n",
       "        vertical-align: middle;\n",
       "    }\n",
       "\n",
       "    .dataframe tbody tr th {\n",
       "        vertical-align: top;\n",
       "    }\n",
       "\n",
       "    .dataframe thead th {\n",
       "        text-align: right;\n",
       "    }\n",
       "</style>\n",
       "<table border=\"1\" class=\"dataframe\">\n",
       "  <thead>\n",
       "    <tr style=\"text-align: right;\">\n",
       "      <th></th>\n",
       "      <th>ID</th>\n",
       "      <th>FNAME</th>\n",
       "      <th>LNAME</th>\n",
       "      <th>CITY</th>\n",
       "      <th>CCODE</th>\n",
       "    </tr>\n",
       "  </thead>\n",
       "  <tbody>\n",
       "    <tr>\n",
       "      <th>0</th>\n",
       "      <td>1</td>\n",
       "      <td>RAV</td>\n",
       "      <td>AHUJA</td>\n",
       "      <td>MOOSETOWN</td>\n",
       "      <td>CA</td>\n",
       "    </tr>\n",
       "    <tr>\n",
       "      <th>1</th>\n",
       "      <td>2</td>\n",
       "      <td>RAUL</td>\n",
       "      <td>CHONG</td>\n",
       "      <td>MARKHAM</td>\n",
       "      <td>CA</td>\n",
       "    </tr>\n",
       "    <tr>\n",
       "      <th>2</th>\n",
       "      <td>3</td>\n",
       "      <td>HEMA</td>\n",
       "      <td>VASUDEVAN</td>\n",
       "      <td>CHICAGO</td>\n",
       "      <td>US</td>\n",
       "    </tr>\n",
       "  </tbody>\n",
       "</table>\n",
       "</div>"
      ],
      "text/plain": [
       "   ID FNAME      LNAME       CITY CCODE\n",
       "0   1   RAV      AHUJA  MOOSETOWN    CA\n",
       "1   2  RAUL      CHONG    MARKHAM    CA\n",
       "2   3  HEMA  VASUDEVAN    CHICAGO    US"
      ]
     },
     "execution_count": 53,
     "metadata": {},
     "output_type": "execute_result"
    }
   ],
   "source": [
    "df"
   ]
  },
  {
   "cell_type": "code",
   "execution_count": 54,
   "id": "d4c79f92-4834-4f4e-9844-21cd01bf4628",
   "metadata": {},
   "outputs": [
    {
     "data": {
      "text/plain": [
       "'AHUJA'"
      ]
     },
     "execution_count": 54,
     "metadata": {},
     "output_type": "execute_result"
    }
   ],
   "source": [
    "df.LNAME[0]"
   ]
  },
  {
   "cell_type": "code",
   "execution_count": 56,
   "id": "28eaf86f-d495-4611-9400-9292d55f7176",
   "metadata": {},
   "outputs": [
    {
     "data": {
      "text/plain": [
       "(3, 5)"
      ]
     },
     "execution_count": 56,
     "metadata": {},
     "output_type": "execute_result"
    }
   ],
   "source": [
    "df.shape"
   ]
  },
  {
   "cell_type": "code",
   "execution_count": 57,
   "id": "6598ac90-a5e6-45d2-b2e7-556d8066579c",
   "metadata": {},
   "outputs": [],
   "source": [
    "connection.close()"
   ]
  },
  {
   "cell_type": "code",
   "execution_count": null,
   "id": "956b3fc5-7b5c-49ec-94b4-a13fcffeacfd",
   "metadata": {},
   "outputs": [],
   "source": []
  }
 ],
 "metadata": {
  "kernelspec": {
   "display_name": "Python 3 (ipykernel)",
   "language": "python",
   "name": "python3"
  },
  "language_info": {
   "codemirror_mode": {
    "name": "ipython",
    "version": 3
   },
   "file_extension": ".py",
   "mimetype": "text/x-python",
   "name": "python",
   "nbconvert_exporter": "python",
   "pygments_lexer": "ipython3",
   "version": "3.12.8"
  }
 },
 "nbformat": 4,
 "nbformat_minor": 5
}
